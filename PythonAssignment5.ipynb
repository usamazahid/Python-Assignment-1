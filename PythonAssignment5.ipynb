{
 "cells": [
  {
   "cell_type": "code",
   "execution_count": 47,
   "metadata": {},
   "outputs": [
    {
     "name": "stdout",
     "output_type": "stream",
     "text": [
      "40320\n"
     ]
    }
   ],
   "source": [
    "def factorial(number):\n",
    "    result = 1\n",
    "    while(number > 0):\n",
    "        result *= number\n",
    "        number -= 1\n",
    "    print(result)\n",
    "\n",
    "factorial(8)\n",
    "        \n"
   ]
  },
  {
   "cell_type": "code",
   "execution_count": 12,
   "metadata": {},
   "outputs": [
    {
     "name": "stdout",
     "output_type": "stream",
     "text": [
      "Upper Case : 2 Lower Case: 14 \n"
     ]
    }
   ],
   "source": [
    "def caseCalculator(string):\n",
    "    upper = 0\n",
    "    lower = 0\n",
    "    for a in string:\n",
    "        if(a.isupper()):\n",
    "            upper += 1\n",
    "        elif(a.islower()):\n",
    "            lower += 1\n",
    "    print(\"Upper Case : {} Lower Case: {} \". format(upper, lower)) \n",
    "    \n",
    "caseCalculator(\"Pakistan Zindabad\")\n",
    "\n",
    "\n"
   ]
  },
  {
   "cell_type": "code",
   "execution_count": 20,
   "metadata": {},
   "outputs": [
    {
     "name": "stdout",
     "output_type": "stream",
     "text": [
      "2\n",
      "4\n",
      "6\n",
      "8\n"
     ]
    }
   ],
   "source": [
    "numbers = [1, 2, 3, 4, 5, 6, 7, 8]\n",
    "def evenNumbers(numbers):\n",
    "    for n in numbers:\n",
    "        if(n % 2 == 0):\n",
    "            print(n)\n",
    "\n",
    "evenNumbers(numbers)\n"
   ]
  },
  {
   "cell_type": "code",
   "execution_count": 88,
   "metadata": {},
   "outputs": [
    {
     "name": "stdout",
     "output_type": "stream",
     "text": [
      "racecar is palindrome\n"
     ]
    }
   ],
   "source": [
    "string = \"racecAr\"\n",
    "#print(string[::-1])\n",
    "def palindrome(string):\n",
    "    string = string.lower()\n",
    "    reversedString = \"\"\n",
    "\n",
    "    for s in range(len(string), 0, -1):\n",
    "        reversedString += string[s - 1]  \n",
    "\n",
    "    if(reversedString == string):\n",
    "        print(\"{} is palindrome\". format(reversedString))\n",
    "        \n",
    "palindrome(string)"
   ]
  },
  {
   "cell_type": "code",
   "execution_count": 76,
   "metadata": {},
   "outputs": [
    {
     "name": "stdout",
     "output_type": "stream",
     "text": [
      "21 is not prime number\n"
     ]
    }
   ],
   "source": [
    "def findPrime(num):\n",
    "    prime = True\n",
    "\n",
    "    for p in range(2, num//2):\n",
    "\n",
    "        if(num % p == 0):\n",
    "            print(\"{} is not prime number\". format(num))\n",
    "            prime = False\n",
    "            break\n",
    "\n",
    "\n",
    "    if(prime == True):\n",
    "        print(\"{} is a prime number\". format(num))\n",
    "    \n",
    "findPrime(21)\n"
   ]
  },
  {
   "cell_type": "code",
   "execution_count": 93,
   "metadata": {},
   "outputs": [
    {
     "name": "stdout",
     "output_type": "stream",
     "text": [
      "your list: ('Eggs', 'Milk', 'Bread', 12)\n"
     ]
    }
   ],
   "source": [
    "def shopingList(*itemName):\n",
    "    print(\"your list: {}\". format(itemName))\n",
    "    \n",
    "shopingList(\"Eggs\", \"Milk\", \"Bread\", 12)"
   ]
  },
  {
   "cell_type": "code",
   "execution_count": null,
   "metadata": {},
   "outputs": [],
   "source": []
  }
 ],
 "metadata": {
  "kernelspec": {
   "display_name": "Python 3",
   "language": "python",
   "name": "python3"
  },
  "language_info": {
   "codemirror_mode": {
    "name": "ipython",
    "version": 3
   },
   "file_extension": ".py",
   "mimetype": "text/x-python",
   "name": "python",
   "nbconvert_exporter": "python",
   "pygments_lexer": "ipython3",
   "version": "3.7.4"
  }
 },
 "nbformat": 4,
 "nbformat_minor": 2
}
