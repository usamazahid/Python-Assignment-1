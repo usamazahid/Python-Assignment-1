{
 "cells": [
  {
   "cell_type": "code",
   "execution_count": 4,
   "metadata": {},
   "outputs": [
    {
     "name": "stdout",
     "output_type": "stream",
     "text": [
      "Usama\n",
      "Ali\n",
      "19\n"
     ]
    }
   ],
   "source": [
    "class Student():\n",
    "    def __init__(student, name, rollno, age, standard, section):\n",
    "        student.name = name\n",
    "        student.rollno = rollno\n",
    "        student.age = age\n",
    "        student.section = section\n",
    "        \n",
    "    def updateName(student, newName):\n",
    "        student.name = newName\n",
    "    def updateRollno(student, newRollno):\n",
    "        student.rollno = newRollno\n",
    "    def updateAge(student, newAge):\n",
    "        student.age = newAge\n",
    "        \n",
    "stu1 = Student(\"Usama\", 1, \"24\", \"12\", \"A\")\n",
    "print(stu1.name)\n",
    "stu1.updateName(\"Ali\")\n",
    "print(stu1.name)\n",
    "stu1.updateAge(\"19\")\n",
    "print(stu1.age)\n",
    "    "
   ]
  },
  {
   "cell_type": "code",
   "execution_count": null,
   "metadata": {},
   "outputs": [],
   "source": [
    "Q1.\n",
    "object oriented programming:\n",
    "in object oriented programming we structure our program in classes and namespases to increase the reuseabilty and reduce redundency, in oppose to procedural programming we use objects of code where functions become methods and variables becomes properties and use them where needed.\n",
    "Q2.\n",
    "Benifits of object oriented programming:\n",
    "encapsulation in which  we group related functions and variables togeather in classes by which we reduce complexity and increase reusabilty.\n",
    "abstraction in which we hide detail and complexity of our classes and methods and show only the detials to the user.\n",
    "inhertiance will reduce redandency by inhertiing the parents properties and methods and using them in child.\n",
    "polymorphism in which different elements can take many forms depending on condition without redundency of code.\n",
    "\n",
    "Q3.\n",
    "difference between funciton and method:\n",
    "both function and method works the same the difference between them is a function works independently but a method is bound to  a class in order to access a method we would have to cread a object of a class and then we will access the method where as we can access the function directly.\n",
    "Q4.\n",
    "class:\n",
    "a class is a container of multiple methods and properties which can be used many times in a programm.\n",
    "object:\n",
    "it is an instance of a class which contains all the methods and properties seperately by its name.\n",
    "every time an object is formed it takes its own memory to hold every method and property independently.\n",
    "attributes are the properties of an object like make, model, year of a car.\n",
    "behaviour are the mehtods of an object which actions this object will perform.\n",
    "\n"
   ]
  }
 ],
 "metadata": {
  "kernelspec": {
   "display_name": "Python 3",
   "language": "python",
   "name": "python3"
  },
  "language_info": {
   "codemirror_mode": {
    "name": "ipython",
    "version": 3
   },
   "file_extension": ".py",
   "mimetype": "text/x-python",
   "name": "python",
   "nbconvert_exporter": "python",
   "pygments_lexer": "ipython3",
   "version": "3.7.4"
  }
 },
 "nbformat": 4,
 "nbformat_minor": 2
}
