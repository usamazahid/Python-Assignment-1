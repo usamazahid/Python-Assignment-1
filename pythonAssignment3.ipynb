{
 "cells": [
  {
   "cell_type": "code",
   "execution_count": 8,
   "metadata": {},
   "outputs": [
    {
     "name": "stdin",
     "output_type": "stream",
     "text": [
      "Enter First Number 5\n",
      "Enter Second Number 2\n",
      "Enter Operator **\n"
     ]
    },
    {
     "name": "stdout",
     "output_type": "stream",
     "text": [
      "25.0\n"
     ]
    }
   ],
   "source": [
    "firstNumber = float(input(\"Enter First Number\"))\n",
    "secondNumber = float(input(\"Enter Second Number\"))\n",
    "Operator = input(\"Enter Operator\")\n",
    "result = \"\"\n",
    "if(Operator == \"+\"):\n",
    "    result = firstNumber + secondNumber\n",
    "elif(Operator == \"-\"):\n",
    "    result = firstNumber - secondNumber\n",
    "elif(Operator == \"*\"):\n",
    "    result = firstNumber * secondNumber\n",
    "elif(Operator == \"/\"):\n",
    "    result = firstNumber / secondNumber\n",
    "elif(Operator == \"**\"):\n",
    "    result = firstNumber ** secondNumber\n",
    "else:\n",
    "    result = \"Invalid Operator\"\n",
    "    \n",
    "print(result)"
   ]
  },
  {
   "cell_type": "code",
   "execution_count": 27,
   "metadata": {},
   "outputs": [
    {
     "name": "stdout",
     "output_type": "stream",
     "text": [
      "1 is Number\n"
     ]
    }
   ],
   "source": [
    "arr = [\"a\", \"b\", \"c\", 1, \"d\"]\n",
    "a = \"1\"\n",
    "for i in arr :\n",
    "    if (type(i) is int) :\n",
    "        print(\"{0} is Number\". format(i))\n"
   ]
  },
  {
   "cell_type": "code",
   "execution_count": 29,
   "metadata": {},
   "outputs": [
    {
     "name": "stdout",
     "output_type": "stream",
     "text": [
      "{'emp_ID': '1001', 'emp_Name': 'Ali', 'emp_Dept': 'prod', 'emp_shift': 'G'}\n"
     ]
    }
   ],
   "source": [
    "emp = {\n",
    "    \"emp_ID\": \"1001\",\n",
    "    \"emp_Name\": \"Ali\",\n",
    "    \"emp_Dept\": \"prod\"\n",
    "}\n",
    "emp[\"emp_shift\"] = \"G\"\n",
    "print(emp)\n"
   ]
  },
  {
   "cell_type": "code",
   "execution_count": 35,
   "metadata": {},
   "outputs": [
    {
     "name": "stdout",
     "output_type": "stream",
     "text": [
      "6000\n"
     ]
    }
   ],
   "source": [
    "expense = {\n",
    "    \"jan\" : \"1000\",\n",
    "    \"feb\" : \"2000\",\n",
    "    \"mar\" : \"3000\"\n",
    "}\n",
    "sumOfExpense = 0\n",
    "for months in expense.values():\n",
    "    sumOfExpense += int(months)\n",
    "print(sumOfExpense)"
   ]
  },
  {
   "cell_type": "code",
   "execution_count": 59,
   "metadata": {},
   "outputs": [
    {
     "name": "stdout",
     "output_type": "stream",
     "text": [
      "{'KHI': 2, 'LHR': 2, 'ISL': 1, 'HYD': 1, 'MUL': 2}\n"
     ]
    }
   ],
   "source": [
    "cities = [\"KHI\", \"LHR\", \"ISL\", \"HYD\", \"KHI\", \"LHR\", \"MUL\", \"MUL\"]\n",
    "duplicate = {}\n",
    "duplicate.clear()\n",
    "for city in cities :\n",
    "    if city in duplicate :\n",
    "        duplicate.update({city:duplicate[city] + 1})\n",
    "    else:\n",
    "        duplicate[city] = 1\n",
    "    \n",
    "print(duplicate)"
   ]
  },
  {
   "cell_type": "code",
   "execution_count": 70,
   "metadata": {},
   "outputs": [
    {
     "name": "stdout",
     "output_type": "stream",
     "text": [
      "jan Exists in dictionary\n"
     ]
    }
   ],
   "source": [
    "expense = {\n",
    "    \"jan\" : \"1000\",\n",
    "    \"feb\" : \"2000\",\n",
    "    \"mar\" : \"3000\"\n",
    "}\n",
    "value = \"jan\"\n",
    "for month in expense.keys():\n",
    "    if(month == value):\n",
    "        print(value, \"Exists in dictionary\")\n",
    "\n"
   ]
  }
 ],
 "metadata": {
  "kernelspec": {
   "display_name": "Python 3",
   "language": "python",
   "name": "python3"
  },
  "language_info": {
   "codemirror_mode": {
    "name": "ipython",
    "version": 3
   },
   "file_extension": ".py",
   "mimetype": "text/x-python",
   "name": "python",
   "nbconvert_exporter": "python",
   "pygments_lexer": "ipython3",
   "version": "3.7.4"
  }
 },
 "nbformat": 4,
 "nbformat_minor": 4
}
