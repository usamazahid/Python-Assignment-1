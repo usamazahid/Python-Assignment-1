{
 "cells": [
  {
   "cell_type": "code",
   "execution_count": 4,
   "metadata": {},
   "outputs": [
    {
     "name": "stdout",
     "output_type": "stream",
     "text": [
      "first_name : usama\n",
      "last_name : zahid\n",
      "age : 25\n",
      "city : karachi\n"
     ]
    }
   ],
   "source": [
    "student = {\n",
    "    \"first_name\" : \"usama\",\n",
    "    \"last_name\" : \"zahid\",\n",
    "    \"age\" : \"25\",\n",
    "    \"city\": \"karachi\"\n",
    "}\n",
    "\n",
    "student[\"qualification\"] = \"Matric\"\n",
    "student[\"qualification\"] = \"Bachelors\"\n",
    "del student[\"qualification\"]\n",
    "\n",
    "for each_key, each_value in student.items():\n",
    "    print(each_key + \" : \" + each_value)"
   ]
  },
  {
   "cell_type": "code",
   "execution_count": 15,
   "metadata": {},
   "outputs": [
    {
     "name": "stdout",
     "output_type": "stream",
     "text": [
      "Karachi\n",
      "\tcountry : Pakistan\n",
      "\tpopulation : 15.74\n",
      "\tfact : Sixth largest city in world\n",
      "Cairo\n",
      "\tcountry : Egypt\n",
      "\tpopulation : 9.5M\n",
      "\tfact : Pyramid of Giza\n",
      "Huairou\n",
      "\tcountry : China\n",
      "\tpopulation : 90K\n",
      "\tfact : Great wall of China\n"
     ]
    }
   ],
   "source": [
    "cities = {\n",
    "    \"Karachi\" : \n",
    "    {\n",
    "        \"country\": \"Pakistan\",\n",
    "        \"population\": \"15.74\",\n",
    "        \"fact\": \"Sixth largest city in world\"\n",
    "    },\n",
    "        \"Cairo\" : \n",
    "    {\n",
    "        \"country\": \"Egypt\",\n",
    "        \"population\": \"9.5M\",\n",
    "        \"fact\": \"Pyramid of Giza\"\n",
    "    },\n",
    "        \"Huairou\" : \n",
    "    {\n",
    "        \"country\": \"China\",\n",
    "        \"population\": \"90K\",\n",
    "        \"fact\": \"Great wall of China\"\n",
    "    }\n",
    "    \n",
    "}\n",
    "\n",
    "for each_key, each_value in cities.items():\n",
    "    print(each_key)\n",
    "    for each_key, each_value in each_value.items():\n",
    "        print(\"\\t\" + each_key + \" : \" + each_value)\n",
    "     \n",
    "        \n",
    "   \n",
    "        "
   ]
  },
  {
   "cell_type": "code",
   "execution_count": 24,
   "metadata": {},
   "outputs": [
    {
     "name": "stdout",
     "output_type": "stream",
     "text": [
      "Type age: q\n",
      "Exit\n"
     ]
    }
   ],
   "source": [
    "ticket_price = 0\n",
    "age = 0\n",
    "value = 0\n",
    "\n",
    "while value != \"q\" and type(value) is int:\n",
    "    value = input(\"Type age: \")\n",
    " \n",
    "    if(value.isdigit()):\n",
    "        age = int(value)\n",
    "\n",
    "        if(age <= 3):\n",
    "            ticket_price = 0\n",
    "        elif(age >= 3 and age <= 12 ):\n",
    "            ticket_price = 10\n",
    "        elif(age >= 12):\n",
    "            ticket_price = 15\n",
    "\n",
    "        print(ticket_price)\n",
    "    else:\n",
    "        print(\"Exit\")"
   ]
  },
  {
   "cell_type": "code",
   "execution_count": 25,
   "metadata": {},
   "outputs": [
    {
     "name": "stdout",
     "output_type": "stream",
     "text": [
      "My favourite book is Kafka on Shore\n"
     ]
    }
   ],
   "source": [
    "def favourite_book(book_name):\n",
    "    print(\"My favourite book is \" + book_name)\n",
    "    \n",
    "favourite_book(\"Kafka on Shore\")"
   ]
  },
  {
   "cell_type": "code",
   "execution_count": 74,
   "metadata": {},
   "outputs": [
    {
     "name": "stdout",
     "output_type": "stream",
     "text": [
      "[29]\n"
     ]
    }
   ],
   "source": [
    "import time\n",
    "millis = round(time.monotonic() * 1000)\n",
    "\n",
    "def LCG(a, c, m, seed):     \n",
    "    xi = seed\n",
    "    while True:\n",
    "        xf = (a * xi + c) % m\n",
    "        xi = xf\n",
    "        yield xf\n",
    "\n",
    "def random_sample(n, interval, seed = 2020042):\n",
    "    lower, upper = interval[0], interval[1]\n",
    "    sample = []\n",
    "    glibc = LCG(1103515245, 12345, 2 ** 32, seed)       # parameters as in GNU C Library\n",
    "\n",
    "    for i in range(n):\n",
    "        observation = (upper - lower) * (next(glibc) / 2 ** 32) + lower\n",
    "        sample.append(int(observation))\n",
    "\n",
    "    return sample\n",
    "\n",
    "sample = random_sample(1, [1, 30], millis)   # 100 random numbers between 30 and 90\n",
    "\n",
    "print(sample)"
   ]
  },
  {
   "cell_type": "code",
   "execution_count": 17,
   "metadata": {},
   "outputs": [
    {
     "name": "stdout",
     "output_type": "stream",
     "text": [
      "Welcome to the Guess Game \n",
      " Guess the number between 1 and 30 \n",
      " You have 3 tries.\n",
      "15\n",
      "Guess your Number : 1\n",
      "Please try again.\n",
      "Guess your Number : 15\n",
      "Congratulations!!! you've guessed the correct number.\n",
      "GAME OVER\n"
     ]
    }
   ],
   "source": [
    "import random\n",
    "import math\n",
    "number = math.floor(random.uniform(0,30))\n",
    "tries = 3\n",
    "print(\"Welcome to the Guess Game \\n Guess the number between 1 and 30 \\n You have 3 tries.\")\n",
    "print(number)\n",
    "\n",
    "while tries > 0:\n",
    "    guess = int(input(\"Guess your Number : \"))\n",
    "    if(guess == number):\n",
    "        print(\"Congratulations!!! you've guessed the correct number.\")\n",
    "        break\n",
    "    else:\n",
    "        print(\"Please try again.\")\n",
    "        \n",
    "    tries-=1\n",
    "\n",
    "print(\"GAME OVER\")\n"
   ]
  },
  {
   "cell_type": "code",
   "execution_count": null,
   "metadata": {},
   "outputs": [],
   "source": []
  }
 ],
 "metadata": {
  "kernelspec": {
   "display_name": "Python 3",
   "language": "python",
   "name": "python3"
  },
  "language_info": {
   "codemirror_mode": {
    "name": "ipython",
    "version": 3
   },
   "file_extension": ".py",
   "mimetype": "text/x-python",
   "name": "python",
   "nbconvert_exporter": "python",
   "pygments_lexer": "ipython3",
   "version": "3.7.4"
  }
 },
 "nbformat": 4,
 "nbformat_minor": 2
}
