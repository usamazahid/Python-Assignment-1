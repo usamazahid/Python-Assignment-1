{
 "cells": [
  {
   "cell_type": "code",
   "execution_count": 3,
   "metadata": {},
   "outputs": [
    {
     "name": "stdin",
     "output_type": "stream",
     "text": [
      "Math's:  40\n",
      "English:  60\n",
      "Science:  70\n",
      "Geography:  60\n",
      "History:  50\n"
     ]
    },
    {
     "name": "stdout",
     "output_type": "stream",
     "text": [
      "Percentage: C\n"
     ]
    }
   ],
   "source": [
    "math = float(input(\"Math's: \"))\n",
    "english = float(input(\"English: \"))\n",
    "science = float(input(\"Science: \"))\n",
    "geography = float(input(\"Geography: \"))\n",
    "history = float(input(\"History: \"))\n",
    "\n",
    "total = math + english + science + geography + history\n",
    "percentage = total / 500 * 100\n",
    "\n",
    "\n",
    "if(percentage >= 80 and percentage <=100):\n",
    "    print(\"Percentage: A+\")\n",
    "elif(percentage >= 70 and percentage <=80):\n",
    "    print(\"Percentage: A\")\n",
    "elif(percentage >= 60 and percentage <=70):\n",
    "    print(\"Percentage: B\")\n",
    "elif(percentage >= 50 and percentage <=60):\n",
    "    print(\"Percentage: C\")\n",
    "elif(percentage >= 40 and percentage <=60):\n",
    "    print(\"Percentage: D\")\n",
    "elif(percentage >= 30 and percentage <=40):\n",
    "    print(\"Percentage: E\")\n",
    "elif(percentage >= 0 and percentage <=30):\n",
    "    print(\"Percentage: Fails\")\n",
    "else :\n",
    "    print(\"invaid input\")\n",
    "\n"
   ]
  },
  {
   "cell_type": "code",
   "execution_count": 2,
   "metadata": {},
   "outputs": [
    {
     "name": "stdin",
     "output_type": "stream",
     "text": [
      "Enter your Number:  35\n"
     ]
    },
    {
     "name": "stdout",
     "output_type": "stream",
     "text": [
      "35 is Odd\n"
     ]
    }
   ],
   "source": [
    "number = int(input(\"Enter your Number: \"))\n",
    "if(number%2 == 0):\n",
    "    print(str(number) + \" is Even\")\n",
    "else:\n",
    "    print(str(number) + \" is Odd\")"
   ]
  },
  {
   "cell_type": "code",
   "execution_count": 46,
   "metadata": {},
   "outputs": [
    {
     "name": "stdout",
     "output_type": "stream",
     "text": [
      "4\n",
      "4\n"
     ]
    }
   ],
   "source": [
    "arr = [1, \"ali\", True, 0.5]\n",
    "y = 0\n",
    "for x in arr:\n",
    "    y+=1\n",
    "print(y)\n",
    "print(len(arr))"
   ]
  },
  {
   "cell_type": "code",
   "execution_count": 45,
   "metadata": {},
   "outputs": [
    {
     "name": "stdout",
     "output_type": "stream",
     "text": [
      "17\n",
      "17\n"
     ]
    }
   ],
   "source": [
    "arr = [1, 2, 3, 5, 6]\n",
    "y = 0\n",
    "for x in arr:\n",
    "    y += x\n",
    "print(y)\n",
    "\n",
    "print(sum(arr))\n"
   ]
  },
  {
   "cell_type": "code",
   "execution_count": 42,
   "metadata": {},
   "outputs": [
    {
     "name": "stdout",
     "output_type": "stream",
     "text": [
      "610\n"
     ]
    }
   ],
   "source": [
    "#using linear search\n",
    "arr = [1, 2, 30, 50, 200, 27, 60]\n",
    "largest = 0\n",
    "for x in arr:\n",
    "    if(largest <= x):\n",
    "        largest = x\n",
    "print(largest)\n"
   ]
  },
  {
   "cell_type": "code",
   "execution_count": 48,
   "metadata": {},
   "outputs": [
    {
     "name": "stdout",
     "output_type": "stream",
     "text": [
      "1\n",
      "1\n",
      "2\n",
      "3\n"
     ]
    }
   ],
   "source": [
    "#for sorted array\n",
    "arr = [1, 1, 2, 3, 5, 8, 13, 21, 34, 55, 89]\n",
    "for x in arr:\n",
    "    if(x == 5):\n",
    "        break\n",
    "    print(x)\n",
    "    \n"
   ]
  },
  {
   "cell_type": "code",
   "execution_count": 50,
   "metadata": {},
   "outputs": [
    {
     "name": "stdout",
     "output_type": "stream",
     "text": [
      "1\n",
      "1\n",
      "2\n",
      "3\n"
     ]
    }
   ],
   "source": [
    "#for unsorted array\n",
    "arr = [1, 1, 2, 3, 5, 8, 13, 21, 34, 55, 89]\n",
    "for x in arr:\n",
    "    if(x >= 5):\n",
    "        continue\n",
    "    print(x)\n",
    "    \n"
   ]
  },
  {
   "cell_type": "code",
   "execution_count": null,
   "metadata": {},
   "outputs": [],
   "source": []
  }
 ],
 "metadata": {
  "kernelspec": {
   "display_name": "Python 3",
   "language": "python",
   "name": "python3"
  },
  "language_info": {
   "codemirror_mode": {
    "name": "ipython",
    "version": 3
   },
   "file_extension": ".py",
   "mimetype": "text/x-python",
   "name": "python",
   "nbconvert_exporter": "python",
   "pygments_lexer": "ipython3",
   "version": "3.7.4"
  }
 },
 "nbformat": 4,
 "nbformat_minor": 4
}
